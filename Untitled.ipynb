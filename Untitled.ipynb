{
 "cells": [
  {
   "cell_type": "code",
   "execution_count": 5,
   "metadata": {},
   "outputs": [
    {
     "name": "stderr",
     "output_type": "stream",
     "text": [
      "C:\\Users\\Modi\\AppData\\Local\\Programs\\Python\\Python37\\lib\\site-packages\\sklearn\\externals\\joblib\\__init__.py:15: FutureWarning: sklearn.externals.joblib is deprecated in 0.21 and will be removed in 0.23. Please import this functionality directly from joblib, which can be installed with: pip install joblib. If this warning is raised when loading pickled models, you may need to re-serialize those models with scikit-learn 0.21+.\n",
      "  warnings.warn(msg, category=FutureWarning)\n"
     ]
    }
   ],
   "source": [
    "from flask import Flask\n",
    "from usdcad import predict \n",
    "from eurusd import Eurusdpredict\n",
    "from gbpusd import PredictGbpusd\n",
    "from usdjpy import predictUsdJpy\n",
    "from xauusd import predictXauUsd\n",
    "import requests"
   ]
  },
  {
   "cell_type": "code",
   "execution_count": 2,
   "metadata": {},
   "outputs": [],
   "source": [
    "data_to_get = ['GBPUSD','EURUSD','USDJPY','XAUUSD','USDCAD']"
   ]
  },
  {
   "cell_type": "code",
   "execution_count": 3,
   "metadata": {},
   "outputs": [],
   "source": [
    "get = {}\n",
    "for i in data_to_get:\n",
    "    data = requests.get(f'https://marketdata.tradermade.com/api/v1/historical?api_key=sV28dANyN4J6CsS_eCho&date=2020-05-31&currency={i}').json()\n",
    "    get[i] = data['quotes'][0] "
   ]
  },
  {
   "cell_type": "code",
   "execution_count": 4,
   "metadata": {},
   "outputs": [
    {
     "data": {
      "text/plain": [
       "{'GBPUSD': {'base_currency': 'GBP',\n",
       "  'close': 1.23489,\n",
       "  'high': 1.2392,\n",
       "  'low': 1.22928,\n",
       "  'open': 1.23227,\n",
       "  'quote_currency': 'USD'},\n",
       " 'EURUSD': {'base_currency': 'EUR',\n",
       "  'close': 1.11041,\n",
       "  'high': 1.11445,\n",
       "  'low': 1.10702,\n",
       "  'open': 1.10745,\n",
       "  'quote_currency': 'USD'},\n",
       " 'USDJPY': {'base_currency': 'USD',\n",
       "  'close': 107.80701,\n",
       "  'high': 107.89284,\n",
       "  'low': 107.09327,\n",
       "  'open': 107.645,\n",
       "  'quote_currency': 'JPY'},\n",
       " 'XAUUSD': {'base_currency': 'XAU',\n",
       "  'close': 1729.25598,\n",
       "  'high': 1737.34424,\n",
       "  'low': 1713.08643,\n",
       "  'open': 1718.52502,\n",
       "  'quote_currency': 'USD'},\n",
       " 'USDCAD': {'base_currency': 'USD',\n",
       "  'close': 1.37737,\n",
       "  'high': 1.38285,\n",
       "  'low': 1.37159,\n",
       "  'open': 1.37652,\n",
       "  'quote_currency': 'CAD'}}"
      ]
     },
     "execution_count": 4,
     "metadata": {},
     "output_type": "execute_result"
    }
   ],
   "source": [
    "get"
   ]
  },
  {
   "cell_type": "code",
   "execution_count": 24,
   "metadata": {},
   "outputs": [],
   "source": [
    "def GetData():\n",
    "    opens = []\n",
    "    close = []\n",
    "    high = []\n",
    "    low = []\n",
    "    currency = []\n",
    "    data_to_get = ['GBPUSD','EURUSD','USDJPY','XAUUSD','USDCAD']\n",
    "    get = {}\n",
    "    for i in data_to_get:\n",
    "        data = requests.get(f'https://marketdata.tradermade.com/api/v1/historical?api_key=sV28dANyN4J6CsS_eCho&date=2020-05-31&currency={i}').json()\n",
    "        get[i] = data['quotes'][0] \n",
    "    prerictions = {}\n",
    "    for cur in data_to_get:\n",
    "        opens.append(get[cur]['open'])\n",
    "        close.append(get[cur]['close'])\n",
    "        high.append(get[cur]['high'])\n",
    "        low.append(get[cur]['low'])\n",
    "        currency.append(cur)\n",
    "    x = predict(opens[0],low[0],high[0],close[0])\n",
    "    print(x)\n",
    "    prerictions[currency[0]] = [x[0][0],x[0][1]]\n",
    "    x = Eurusdpredict(opens[1],low[1],high[1],close[1])\n",
    "    print('--------')\n",
    "    print(x)\n",
    "    prerictions[currency[1]] = [x[0][0],x[0][1]]\n",
    "    print(prerictions)\n",
    "    "
   ]
  },
  {
   "cell_type": "code",
   "execution_count": 25,
   "metadata": {},
   "outputs": [
    {
     "name": "stdout",
     "output_type": "stream",
     "text": [
      "<class 'pandas.core.frame.DataFrame'>\n",
      "Int64Index: 2691 entries, 20100101 to 20191231\n",
      "Data columns (total 6 columns):\n",
      "Open              2691 non-null float64\n",
      "High              2691 non-null float64\n",
      "Low               2691 non-null float64\n",
      "Close             2691 non-null float64\n",
      "Predicted High    2691 non-null float64\n",
      "Predicted Low     2691 non-null float64\n",
      "dtypes: float64(6)\n",
      "memory usage: 147.2 KB\n",
      "[[1.23604695 1.2343651 ]]\n",
      "<class 'pandas.core.frame.DataFrame'>\n",
      "Int64Index: 2693 entries, 20100101 to 20191231\n",
      "Data columns (total 6 columns):\n",
      "Open              2693 non-null float64\n",
      "High              2693 non-null float64\n",
      "Low               2693 non-null float64\n",
      "Close             2693 non-null float64\n",
      "Predicted High    2693 non-null float64\n",
      "Predicted Low     2693 non-null float64\n",
      "dtypes: float64(6)\n",
      "memory usage: 147.3 KB\n",
      "0.9983116006664872\n",
      "--------\n",
      "[[1.43722992 1.42886769]]\n",
      "{'GBPUSD': [1.2360469483686825, 1.2343650953128278], 'EURUSD': [1.4372299248802483, 1.4288676913255263]}\n"
     ]
    },
    {
     "name": "stderr",
     "output_type": "stream",
     "text": [
      "C:\\Users\\Modi\\AppData\\Local\\Programs\\Python\\Python37\\lib\\site-packages\\sklearn\\base.py:434: FutureWarning: The default value of multioutput (not exposed in score method) will change from 'variance_weighted' to 'uniform_average' in 0.23 to keep consistent with 'metrics.r2_score'. To specify the default value manually and avoid the warning, please either call 'metrics.r2_score' directly or make a custom scorer with 'metrics.make_scorer' (the built-in scorer 'r2' uses multioutput='uniform_average').\n",
      "  \"multioutput='uniform_average').\", FutureWarning)\n",
      "C:\\Users\\Modi\\AppData\\Local\\Programs\\Python\\Python37\\lib\\site-packages\\sklearn\\base.py:434: FutureWarning: The default value of multioutput (not exposed in score method) will change from 'variance_weighted' to 'uniform_average' in 0.23 to keep consistent with 'metrics.r2_score'. To specify the default value manually and avoid the warning, please either call 'metrics.r2_score' directly or make a custom scorer with 'metrics.make_scorer' (the built-in scorer 'r2' uses multioutput='uniform_average').\n",
      "  \"multioutput='uniform_average').\", FutureWarning)\n"
     ]
    }
   ],
   "source": [
    "GetData()"
   ]
  },
  {
   "cell_type": "code",
   "execution_count": null,
   "metadata": {},
   "outputs": [],
   "source": [
    "x = predict(opens[0],low[0],high[0],close[0])\n",
    "prerictions[currency[0]] = [x[0],x[1]]\n",
    "x = Eurusdpredict(opens[1],low[1],high[1],close[1])\n",
    "prerictions[currency[1]] = [x[0],x[1]]"
   ]
  },
  {
   "cell_type": "code",
   "execution_count": 28,
   "metadata": {},
   "outputs": [],
   "source": [
    "pd.DataFrame(get).to_json('data.json')"
   ]
  },
  {
   "cell_type": "code",
   "execution_count": 29,
   "metadata": {},
   "outputs": [],
   "source": [
    "xget = pd.read_json('data.json')"
   ]
  },
  {
   "cell_type": "code",
   "execution_count": 33,
   "metadata": {},
   "outputs": [
    {
     "data": {
      "text/plain": [
       "{'GBPUSD': base_currency         GBP\n",
       " close             1.23489\n",
       " high               1.2392\n",
       " low               1.22928\n",
       " open              1.23227\n",
       " quote_currency        USD\n",
       " Name: GBPUSD, dtype: object,\n",
       " 'EURUSD': base_currency         EUR\n",
       " close             1.11041\n",
       " high              1.11445\n",
       " low               1.10702\n",
       " open              1.10745\n",
       " quote_currency        USD\n",
       " Name: EURUSD, dtype: object,\n",
       " 'USDJPY': base_currency         USD\n",
       " close             107.807\n",
       " high              107.893\n",
       " low               107.093\n",
       " open              107.645\n",
       " quote_currency        JPY\n",
       " Name: USDJPY, dtype: object,\n",
       " 'XAUUSD': base_currency         XAU\n",
       " close             1729.26\n",
       " high              1737.34\n",
       " low               1713.09\n",
       " open              1718.53\n",
       " quote_currency        USD\n",
       " Name: XAUUSD, dtype: object,\n",
       " 'USDCAD': base_currency         USD\n",
       " close             1.37737\n",
       " high              1.38285\n",
       " low               1.37159\n",
       " open              1.37652\n",
       " quote_currency        CAD\n",
       " Name: USDCAD, dtype: object}"
      ]
     },
     "execution_count": 33,
     "metadata": {},
     "output_type": "execute_result"
    }
   ],
   "source": [
    "dict(xget)"
   ]
  },
  {
   "cell_type": "code",
   "execution_count": 34,
   "metadata": {},
   "outputs": [
    {
     "data": {
      "text/plain": [
       "{'GBPUSD': {'base_currency': 'GBP',\n",
       "  'close': 1.23489,\n",
       "  'high': 1.2392,\n",
       "  'low': 1.22928,\n",
       "  'open': 1.23227,\n",
       "  'quote_currency': 'USD'},\n",
       " 'EURUSD': {'base_currency': 'EUR',\n",
       "  'close': 1.11041,\n",
       "  'high': 1.11445,\n",
       "  'low': 1.10702,\n",
       "  'open': 1.10745,\n",
       "  'quote_currency': 'USD'},\n",
       " 'USDJPY': {'base_currency': 'USD',\n",
       "  'close': 107.80701,\n",
       "  'high': 107.89284,\n",
       "  'low': 107.09327,\n",
       "  'open': 107.645,\n",
       "  'quote_currency': 'JPY'},\n",
       " 'XAUUSD': {'base_currency': 'XAU',\n",
       "  'close': 1729.25598,\n",
       "  'high': 1737.34424,\n",
       "  'low': 1713.08643,\n",
       "  'open': 1718.52502,\n",
       "  'quote_currency': 'USD'},\n",
       " 'USDCAD': {'base_currency': 'USD',\n",
       "  'close': 1.37737,\n",
       "  'high': 1.38285,\n",
       "  'low': 1.37159,\n",
       "  'open': 1.37652,\n",
       "  'quote_currency': 'CAD'}}"
      ]
     },
     "execution_count": 34,
     "metadata": {},
     "output_type": "execute_result"
    }
   ],
   "source": [
    "get"
   ]
  },
  {
   "cell_type": "code",
   "execution_count": 48,
   "metadata": {},
   "outputs": [],
   "source": [
    "def GetData():\n",
    "    opens = []\n",
    "    close = []\n",
    "    high = []\n",
    "    low = []\n",
    "    currency = []\n",
    "    data_to_get = ['GBPUSD','EURUSD','USDJPY','XAUUSD','USDCAD']\n",
    "    get = {}\n",
    "    for i in data_to_get:\n",
    "        data = requests.get(f'https://marketdata.tradermade.com/api/v1/historical?api_key=sV28dANyN4J6CsS_eCho&date=2020-05-31&currency={i}').json()\n",
    "        get[i] = data['quotes'][0] \n",
    "    prerictions = {}\n",
    "    for cur in data_to_get:\n",
    "        opens.append(get[cur]['open'])\n",
    "        close.append(get[cur]['close'])\n",
    "        high.append(get[cur]['high'])\n",
    "        low.append(get[cur]['low'])\n",
    "        currency.append(cur)\n",
    "    x = PredictGbpusd(opens[0],low[0],high[0],close[0])\n",
    "    prerictions[currency[0]] = [x[0][0],x[0][1]]\n",
    "\n",
    "    x = Eurusdpredict(opens[1],low[1],high[1],close[1])\n",
    "    prerictions[currency[1]] = [x[0][0],x[0][1]]\n",
    "\n",
    "    x = predictUsdJpy(opens[2],low[2],high[2],close[2])\n",
    "    prerictions[currency[2]] = [x[0][0],x[0][1]]\n",
    "\n",
    "    x = predictXauUsd(opens[3],low[3],high[3],close[3])\n",
    "    prerictions[currency[3]] = [x[0][0],x[0][1]]\n",
    "\n",
    "    x = predict(opens[4],low[4],high[4],close[4])\n",
    "    prerictions[currency[4]] = [x[0][0],x[0][1]]\n",
    "\n",
    "    return prerictions"
   ]
  },
  {
   "cell_type": "code",
   "execution_count": 49,
   "metadata": {},
   "outputs": [
    {
     "name": "stdout",
     "output_type": "stream",
     "text": [
      "<class 'pandas.core.frame.DataFrame'>\n",
      "Int64Index: 2693 entries, 20100101 to 20191231\n",
      "Data columns (total 6 columns):\n",
      "Open              2693 non-null float64\n",
      "High              2693 non-null float64\n",
      "Low               2693 non-null float64\n",
      "Close             2693 non-null float64\n",
      "Predicted High    2693 non-null float64\n",
      "Predicted Low     2693 non-null float64\n",
      "dtypes: float64(6)\n",
      "memory usage: 147.3 KB\n",
      "0.998775688650722\n",
      "<class 'pandas.core.frame.DataFrame'>\n",
      "Int64Index: 2693 entries, 20100101 to 20191231\n",
      "Data columns (total 6 columns):\n",
      "Open              2693 non-null float64\n",
      "High              2693 non-null float64\n",
      "Low               2693 non-null float64\n",
      "Close             2693 non-null float64\n",
      "Predicted High    2693 non-null float64\n",
      "Predicted Low     2693 non-null float64\n",
      "dtypes: float64(6)\n",
      "memory usage: 147.3 KB\n",
      "0.9981309257460915\n",
      "<class 'pandas.core.frame.DataFrame'>\n",
      "Int64Index: 2694 entries, 20100104 to 20191231\n",
      "Data columns (total 6 columns):\n",
      "Open              2694 non-null float64\n",
      "High              2694 non-null float64\n",
      "Low               2694 non-null float64\n",
      "Close             2694 non-null float64\n",
      "Predicted High    2694 non-null float64\n",
      "Predicted Low     2694 non-null float64\n",
      "dtypes: float64(6)\n",
      "memory usage: 147.3 KB\n",
      "0.9993466036615464\n",
      "<class 'pandas.core.frame.DataFrame'>\n",
      "Int64Index: 2654 entries, 20100101 to 20200101\n",
      "Data columns (total 7 columns):\n",
      "Open              2654 non-null float64\n",
      "High              2654 non-null float64\n",
      "Low               2654 non-null float64\n",
      "Close             2654 non-null float64\n",
      "Volume            2654 non-null float64\n",
      "Predicted High    2654 non-null float64\n",
      "Predicted Low     2654 non-null float64\n",
      "dtypes: float64(7)\n",
      "memory usage: 165.9 KB\n",
      "0.9968690789895321\n",
      "<class 'pandas.core.frame.DataFrame'>\n",
      "Int64Index: 2691 entries, 20100101 to 20191231\n",
      "Data columns (total 6 columns):\n",
      "Open              2691 non-null float64\n",
      "High              2691 non-null float64\n",
      "Low               2691 non-null float64\n",
      "Close             2691 non-null float64\n",
      "Predicted High    2691 non-null float64\n",
      "Predicted Low     2691 non-null float64\n",
      "dtypes: float64(6)\n",
      "memory usage: 147.2 KB\n"
     ]
    },
    {
     "name": "stderr",
     "output_type": "stream",
     "text": [
      "C:\\Users\\Modi\\AppData\\Local\\Programs\\Python\\Python37\\lib\\site-packages\\sklearn\\base.py:434: FutureWarning: The default value of multioutput (not exposed in score method) will change from 'variance_weighted' to 'uniform_average' in 0.23 to keep consistent with 'metrics.r2_score'. To specify the default value manually and avoid the warning, please either call 'metrics.r2_score' directly or make a custom scorer with 'metrics.make_scorer' (the built-in scorer 'r2' uses multioutput='uniform_average').\n",
      "  \"multioutput='uniform_average').\", FutureWarning)\n",
      "C:\\Users\\Modi\\AppData\\Local\\Programs\\Python\\Python37\\lib\\site-packages\\sklearn\\base.py:434: FutureWarning: The default value of multioutput (not exposed in score method) will change from 'variance_weighted' to 'uniform_average' in 0.23 to keep consistent with 'metrics.r2_score'. To specify the default value manually and avoid the warning, please either call 'metrics.r2_score' directly or make a custom scorer with 'metrics.make_scorer' (the built-in scorer 'r2' uses multioutput='uniform_average').\n",
      "  \"multioutput='uniform_average').\", FutureWarning)\n",
      "C:\\Users\\Modi\\AppData\\Local\\Programs\\Python\\Python37\\lib\\site-packages\\sklearn\\base.py:434: FutureWarning: The default value of multioutput (not exposed in score method) will change from 'variance_weighted' to 'uniform_average' in 0.23 to keep consistent with 'metrics.r2_score'. To specify the default value manually and avoid the warning, please either call 'metrics.r2_score' directly or make a custom scorer with 'metrics.make_scorer' (the built-in scorer 'r2' uses multioutput='uniform_average').\n",
      "  \"multioutput='uniform_average').\", FutureWarning)\n",
      "C:\\Users\\Modi\\AppData\\Local\\Programs\\Python\\Python37\\lib\\site-packages\\sklearn\\base.py:434: FutureWarning: The default value of multioutput (not exposed in score method) will change from 'variance_weighted' to 'uniform_average' in 0.23 to keep consistent with 'metrics.r2_score'. To specify the default value manually and avoid the warning, please either call 'metrics.r2_score' directly or make a custom scorer with 'metrics.make_scorer' (the built-in scorer 'r2' uses multioutput='uniform_average').\n",
      "  \"multioutput='uniform_average').\", FutureWarning)\n",
      "C:\\Users\\Modi\\AppData\\Local\\Programs\\Python\\Python37\\lib\\site-packages\\sklearn\\base.py:434: FutureWarning: The default value of multioutput (not exposed in score method) will change from 'variance_weighted' to 'uniform_average' in 0.23 to keep consistent with 'metrics.r2_score'. To specify the default value manually and avoid the warning, please either call 'metrics.r2_score' directly or make a custom scorer with 'metrics.make_scorer' (the built-in scorer 'r2' uses multioutput='uniform_average').\n",
      "  \"multioutput='uniform_average').\", FutureWarning)\n"
     ]
    }
   ],
   "source": [
    "predictions = GetData()"
   ]
  },
  {
   "cell_type": "code",
   "execution_count": 50,
   "metadata": {},
   "outputs": [
    {
     "data": {
      "text/plain": [
       "{'GBPUSD': [1.2381216296341593, 1.2336461352833348],\n",
       " 'EURUSD': [1.437517871004421, 1.4289152416202575],\n",
       " 'USDJPY': [107.90393732387973, 107.64116341640712],\n",
       " 'XAUUSD': [1725.3150950919844, 1717.2331256391042],\n",
       " 'USDCAD': [1.3785379578792327, 1.3769497953538434]}"
      ]
     },
     "execution_count": 50,
     "metadata": {},
     "output_type": "execute_result"
    }
   ],
   "source": [
    "predictions"
   ]
  },
  {
   "cell_type": "code",
   "execution_count": 55,
   "metadata": {},
   "outputs": [],
   "source": [
    "pd.DataFrame(predictions).to_csv(\"predictions.csv\",index=False)"
   ]
  },
  {
   "cell_type": "code",
   "execution_count": 57,
   "metadata": {},
   "outputs": [],
   "source": [
    "df = pd.read_csv('predictions.csv')"
   ]
  },
  {
   "cell_type": "code",
   "execution_count": 58,
   "metadata": {},
   "outputs": [
    {
     "data": {
      "text/html": [
       "<div>\n",
       "<style scoped>\n",
       "    .dataframe tbody tr th:only-of-type {\n",
       "        vertical-align: middle;\n",
       "    }\n",
       "\n",
       "    .dataframe tbody tr th {\n",
       "        vertical-align: top;\n",
       "    }\n",
       "\n",
       "    .dataframe thead th {\n",
       "        text-align: right;\n",
       "    }\n",
       "</style>\n",
       "<table border=\"1\" class=\"dataframe\">\n",
       "  <thead>\n",
       "    <tr style=\"text-align: right;\">\n",
       "      <th></th>\n",
       "      <th>GBPUSD</th>\n",
       "      <th>EURUSD</th>\n",
       "      <th>USDJPY</th>\n",
       "      <th>XAUUSD</th>\n",
       "      <th>USDCAD</th>\n",
       "    </tr>\n",
       "  </thead>\n",
       "  <tbody>\n",
       "    <tr>\n",
       "      <th>0</th>\n",
       "      <td>1.238122</td>\n",
       "      <td>1.437518</td>\n",
       "      <td>107.903937</td>\n",
       "      <td>1725.315095</td>\n",
       "      <td>1.378538</td>\n",
       "    </tr>\n",
       "    <tr>\n",
       "      <th>1</th>\n",
       "      <td>1.233646</td>\n",
       "      <td>1.428915</td>\n",
       "      <td>107.641163</td>\n",
       "      <td>1717.233126</td>\n",
       "      <td>1.376950</td>\n",
       "    </tr>\n",
       "  </tbody>\n",
       "</table>\n",
       "</div>"
      ],
      "text/plain": [
       "     GBPUSD    EURUSD      USDJPY       XAUUSD    USDCAD\n",
       "0  1.238122  1.437518  107.903937  1725.315095  1.378538\n",
       "1  1.233646  1.428915  107.641163  1717.233126  1.376950"
      ]
     },
     "execution_count": 58,
     "metadata": {},
     "output_type": "execute_result"
    }
   ],
   "source": [
    "df"
   ]
  },
  {
   "cell_type": "code",
   "execution_count": 3,
   "metadata": {},
   "outputs": [],
   "source": [
    "import pandas as pd"
   ]
  },
  {
   "cell_type": "code",
   "execution_count": 4,
   "metadata": {},
   "outputs": [
    {
     "data": {
      "text/html": [
       "<div>\n",
       "<style scoped>\n",
       "    .dataframe tbody tr th:only-of-type {\n",
       "        vertical-align: middle;\n",
       "    }\n",
       "\n",
       "    .dataframe tbody tr th {\n",
       "        vertical-align: top;\n",
       "    }\n",
       "\n",
       "    .dataframe thead th {\n",
       "        text-align: right;\n",
       "    }\n",
       "</style>\n",
       "<table border=\"1\" class=\"dataframe\">\n",
       "  <thead>\n",
       "    <tr style=\"text-align: right;\">\n",
       "      <th></th>\n",
       "      <th>Date</th>\n",
       "      <th>Open</th>\n",
       "      <th>High</th>\n",
       "      <th>Low</th>\n",
       "      <th>Close</th>\n",
       "      <th>Predicted High</th>\n",
       "      <th>Predicted Low</th>\n",
       "    </tr>\n",
       "  </thead>\n",
       "  <tbody>\n",
       "    <tr>\n",
       "      <th>0</th>\n",
       "      <td>20100101</td>\n",
       "      <td>1.61675</td>\n",
       "      <td>1.61696</td>\n",
       "      <td>1.61487</td>\n",
       "      <td>1.61614</td>\n",
       "      <td>1.62415</td>\n",
       "      <td>1.60575</td>\n",
       "    </tr>\n",
       "    <tr>\n",
       "      <th>1</th>\n",
       "      <td>20100104</td>\n",
       "      <td>1.61034</td>\n",
       "      <td>1.62415</td>\n",
       "      <td>1.60575</td>\n",
       "      <td>1.60820</td>\n",
       "      <td>1.61530</td>\n",
       "      <td>1.59650</td>\n",
       "    </tr>\n",
       "    <tr>\n",
       "      <th>2</th>\n",
       "      <td>20100105</td>\n",
       "      <td>1.60820</td>\n",
       "      <td>1.61530</td>\n",
       "      <td>1.59650</td>\n",
       "      <td>1.59900</td>\n",
       "      <td>1.60635</td>\n",
       "      <td>1.59370</td>\n",
       "    </tr>\n",
       "    <tr>\n",
       "      <th>3</th>\n",
       "      <td>20100106</td>\n",
       "      <td>1.59895</td>\n",
       "      <td>1.60635</td>\n",
       "      <td>1.59370</td>\n",
       "      <td>1.60170</td>\n",
       "      <td>1.60585</td>\n",
       "      <td>1.58960</td>\n",
       "    </tr>\n",
       "    <tr>\n",
       "      <th>4</th>\n",
       "      <td>20100107</td>\n",
       "      <td>1.60170</td>\n",
       "      <td>1.60585</td>\n",
       "      <td>1.58960</td>\n",
       "      <td>1.59290</td>\n",
       "      <td>1.61100</td>\n",
       "      <td>1.59150</td>\n",
       "    </tr>\n",
       "    <tr>\n",
       "      <th>...</th>\n",
       "      <td>...</td>\n",
       "      <td>...</td>\n",
       "      <td>...</td>\n",
       "      <td>...</td>\n",
       "      <td>...</td>\n",
       "      <td>...</td>\n",
       "      <td>...</td>\n",
       "    </tr>\n",
       "    <tr>\n",
       "      <th>2688</th>\n",
       "      <td>20191226</td>\n",
       "      <td>1.29542</td>\n",
       "      <td>1.30156</td>\n",
       "      <td>1.29498</td>\n",
       "      <td>1.30037</td>\n",
       "      <td>1.31169</td>\n",
       "      <td>1.29680</td>\n",
       "    </tr>\n",
       "    <tr>\n",
       "      <th>2689</th>\n",
       "      <td>20191227</td>\n",
       "      <td>1.30038</td>\n",
       "      <td>1.31169</td>\n",
       "      <td>1.29680</td>\n",
       "      <td>1.30749</td>\n",
       "      <td>1.30869</td>\n",
       "      <td>1.30724</td>\n",
       "    </tr>\n",
       "    <tr>\n",
       "      <th>2690</th>\n",
       "      <td>20191228</td>\n",
       "      <td>1.30746</td>\n",
       "      <td>1.30869</td>\n",
       "      <td>1.30724</td>\n",
       "      <td>1.30758</td>\n",
       "      <td>1.31500</td>\n",
       "      <td>1.30576</td>\n",
       "    </tr>\n",
       "    <tr>\n",
       "      <th>2691</th>\n",
       "      <td>20191230</td>\n",
       "      <td>1.30848</td>\n",
       "      <td>1.31500</td>\n",
       "      <td>1.30576</td>\n",
       "      <td>1.31031</td>\n",
       "      <td>1.32840</td>\n",
       "      <td>1.31022</td>\n",
       "    </tr>\n",
       "    <tr>\n",
       "      <th>2692</th>\n",
       "      <td>20191231</td>\n",
       "      <td>1.31031</td>\n",
       "      <td>1.32840</td>\n",
       "      <td>1.31022</td>\n",
       "      <td>1.32453</td>\n",
       "      <td>1.32671</td>\n",
       "      <td>1.32428</td>\n",
       "    </tr>\n",
       "  </tbody>\n",
       "</table>\n",
       "<p>2693 rows × 7 columns</p>\n",
       "</div>"
      ],
      "text/plain": [
       "          Date     Open     High      Low    Close  Predicted High  \\\n",
       "0     20100101  1.61675  1.61696  1.61487  1.61614         1.62415   \n",
       "1     20100104  1.61034  1.62415  1.60575  1.60820         1.61530   \n",
       "2     20100105  1.60820  1.61530  1.59650  1.59900         1.60635   \n",
       "3     20100106  1.59895  1.60635  1.59370  1.60170         1.60585   \n",
       "4     20100107  1.60170  1.60585  1.58960  1.59290         1.61100   \n",
       "...        ...      ...      ...      ...      ...             ...   \n",
       "2688  20191226  1.29542  1.30156  1.29498  1.30037         1.31169   \n",
       "2689  20191227  1.30038  1.31169  1.29680  1.30749         1.30869   \n",
       "2690  20191228  1.30746  1.30869  1.30724  1.30758         1.31500   \n",
       "2691  20191230  1.30848  1.31500  1.30576  1.31031         1.32840   \n",
       "2692  20191231  1.31031  1.32840  1.31022  1.32453         1.32671   \n",
       "\n",
       "      Predicted Low  \n",
       "0           1.60575  \n",
       "1           1.59650  \n",
       "2           1.59370  \n",
       "3           1.58960  \n",
       "4           1.59150  \n",
       "...             ...  \n",
       "2688        1.29680  \n",
       "2689        1.30724  \n",
       "2690        1.30576  \n",
       "2691        1.31022  \n",
       "2692        1.32428  \n",
       "\n",
       "[2693 rows x 7 columns]"
      ]
     },
     "execution_count": 4,
     "metadata": {},
     "output_type": "execute_result"
    }
   ],
   "source": [
    "pd.read_csv('GBPUSD.csv')"
   ]
  },
  {
   "cell_type": "code",
   "execution_count": 10,
   "metadata": {},
   "outputs": [],
   "source": [
    "data = requests.get(f'https://marketdata.tradermade.com/api/v1/historical?api_key=sV28dANyN4J6CsS_eCho&date=2020-06-02&currency=USDCAD').json()"
   ]
  },
  {
   "cell_type": "code",
   "execution_count": 11,
   "metadata": {},
   "outputs": [
    {
     "data": {
      "text/plain": [
       "{'date': '2020-06-02',\n",
       " 'endpoint': 'historical',\n",
       " 'quotes': [{'base_currency': 'USD',\n",
       "   'close': 1.35195,\n",
       "   'high': 1.35854,\n",
       "   'low': 1.34841,\n",
       "   'open': 1.3575,\n",
       "   'quote_currency': 'CAD'}],\n",
       " 'request_time': 'Wed, 03 Jun 2020 09:57:30 GMT'}"
      ]
     },
     "execution_count": 11,
     "metadata": {},
     "output_type": "execute_result"
    }
   ],
   "source": [
    "data"
   ]
  },
  {
   "cell_type": "code",
   "execution_count": 2,
   "metadata": {},
   "outputs": [],
   "source": [
    "import datetime"
   ]
  },
  {
   "cell_type": "code",
   "execution_count": 24,
   "metadata": {},
   "outputs": [
    {
     "data": {
      "text/plain": [
       "(6, 3)"
      ]
     },
     "execution_count": 24,
     "metadata": {},
     "output_type": "execute_result"
    }
   ],
   "source": [
    "x.month, x.day"
   ]
  },
  {
   "cell_type": "code",
   "execution_count": 1,
   "metadata": {},
   "outputs": [],
   "source": [
    "import pandas as pd\n",
    "import numpy as np"
   ]
  },
  {
   "cell_type": "code",
   "execution_count": 33,
   "metadata": {},
   "outputs": [],
   "source": [
    "data = pd.read_csv('predictions.csv')"
   ]
  },
  {
   "cell_type": "code",
   "execution_count": 34,
   "metadata": {},
   "outputs": [],
   "source": [
    "\n",
    "data['XAUUSD'] = data['XAUUSD'].apply('{:,.2f}'.format)\n",
    "data.update(data.select_dtypes(include=np.number).applymap('{:,.5f}'.format))"
   ]
  },
  {
   "cell_type": "code",
   "execution_count": 40,
   "metadata": {},
   "outputs": [],
   "source": [
    "x = data['XAUUSD']"
   ]
  },
  {
   "cell_type": "code",
   "execution_count": 16,
   "metadata": {},
   "outputs": [
    {
     "data": {
      "text/plain": [
       "0    1724.8387412105453\n",
       "1    1718.7763051139075\n",
       "Name: XAUUSD, dtype: object"
      ]
     },
     "execution_count": 16,
     "metadata": {},
     "output_type": "execute_result"
    }
   ],
   "source": [
    "data['XAUUSD']"
   ]
  },
  {
   "cell_type": "code",
   "execution_count": 44,
   "metadata": {},
   "outputs": [],
   "source": [
    "x[0] = x[0].replace(',',\"\")\n",
    "x[1] = x[1].replace(',',\"\")"
   ]
  },
  {
   "cell_type": "code",
   "execution_count": 45,
   "metadata": {},
   "outputs": [],
   "source": [
    "x[1] = x[1].replace(',',\"\")"
   ]
  },
  {
   "cell_type": "code",
   "execution_count": 46,
   "metadata": {},
   "outputs": [
    {
     "data": {
      "text/plain": [
       "0    1724.84\n",
       "1    1718.78\n",
       "Name: XAUUSD, dtype: object"
      ]
     },
     "execution_count": 46,
     "metadata": {},
     "output_type": "execute_result"
    }
   ],
   "source": [
    "x"
   ]
  },
  {
   "cell_type": "code",
   "execution_count": 47,
   "metadata": {},
   "outputs": [],
   "source": [
    "data['XAUUSD'] = x"
   ]
  },
  {
   "cell_type": "code",
   "execution_count": 48,
   "metadata": {},
   "outputs": [
    {
     "data": {
      "text/html": [
       "<div>\n",
       "<style scoped>\n",
       "    .dataframe tbody tr th:only-of-type {\n",
       "        vertical-align: middle;\n",
       "    }\n",
       "\n",
       "    .dataframe tbody tr th {\n",
       "        vertical-align: top;\n",
       "    }\n",
       "\n",
       "    .dataframe thead th {\n",
       "        text-align: right;\n",
       "    }\n",
       "</style>\n",
       "<table border=\"1\" class=\"dataframe\">\n",
       "  <thead>\n",
       "    <tr style=\"text-align: right;\">\n",
       "      <th></th>\n",
       "      <th>xdate</th>\n",
       "      <th>GBPUSD</th>\n",
       "      <th>EURUSD</th>\n",
       "      <th>USDJPY</th>\n",
       "      <th>XAUUSD</th>\n",
       "      <th>USDCAD</th>\n",
       "    </tr>\n",
       "  </thead>\n",
       "  <tbody>\n",
       "    <tr>\n",
       "      <th>0</th>\n",
       "      <td>2020-05-29</td>\n",
       "      <td>1.23954</td>\n",
       "      <td>1.11206</td>\n",
       "      <td>107.88055</td>\n",
       "      <td>1724.84</td>\n",
       "      <td>1.37833</td>\n",
       "    </tr>\n",
       "    <tr>\n",
       "      <th>1</th>\n",
       "      <td>2020-05-29</td>\n",
       "      <td>1.23432</td>\n",
       "      <td>1.11022</td>\n",
       "      <td>107.60619</td>\n",
       "      <td>1718.78</td>\n",
       "      <td>1.37701</td>\n",
       "    </tr>\n",
       "  </tbody>\n",
       "</table>\n",
       "</div>"
      ],
      "text/plain": [
       "        xdate   GBPUSD   EURUSD     USDJPY   XAUUSD   USDCAD\n",
       "0  2020-05-29  1.23954  1.11206  107.88055  1724.84  1.37833\n",
       "1  2020-05-29  1.23432  1.11022  107.60619  1718.78  1.37701"
      ]
     },
     "execution_count": 48,
     "metadata": {},
     "output_type": "execute_result"
    }
   ],
   "source": [
    "data"
   ]
  },
  {
   "cell_type": "code",
   "execution_count": 6,
   "metadata": {},
   "outputs": [
    {
     "data": {
      "text/html": [
       "<div>\n",
       "<style scoped>\n",
       "    .dataframe tbody tr th:only-of-type {\n",
       "        vertical-align: middle;\n",
       "    }\n",
       "\n",
       "    .dataframe tbody tr th {\n",
       "        vertical-align: top;\n",
       "    }\n",
       "\n",
       "    .dataframe thead th {\n",
       "        text-align: right;\n",
       "    }\n",
       "</style>\n",
       "<table border=\"1\" class=\"dataframe\">\n",
       "  <thead>\n",
       "    <tr style=\"text-align: right;\">\n",
       "      <th></th>\n",
       "      <th>username</th>\n",
       "      <th>pass</th>\n",
       "    </tr>\n",
       "  </thead>\n",
       "  <tbody>\n",
       "    <tr>\n",
       "      <th>1</th>\n",
       "      <td>admin1234</td>\n",
       "      <td>admin</td>\n",
       "    </tr>\n",
       "  </tbody>\n",
       "</table>\n",
       "</div>"
      ],
      "text/plain": [
       "    username   pass\n",
       "1  admin1234  admin"
      ]
     },
     "execution_count": 6,
     "metadata": {},
     "output_type": "execute_result"
    }
   ],
   "source": [
    "admin = {\"username\":\"admin1234\", \"pass\":'admin'}\n",
    "pd.DataFrame(admin,index = [1])"
   ]
  },
  {
   "cell_type": "code",
   "execution_count": 20,
   "metadata": {},
   "outputs": [],
   "source": [
    "admin_data = pd.read_csv('admin.csv')"
   ]
  },
  {
   "cell_type": "code",
   "execution_count": 17,
   "metadata": {},
   "outputs": [
    {
     "name": "stdout",
     "output_type": "stream",
     "text": [
      "True\n"
     ]
    }
   ],
   "source": [
    "if admin_data.iloc[:,1].values == 'admin1234' and admin_data.iloc[:,2].values == 'admin':\n",
    "        print((True))"
   ]
  },
  {
   "cell_type": "code",
   "execution_count": 16,
   "metadata": {},
   "outputs": [
    {
     "ename": "IndexingError",
     "evalue": "Too many indexers",
     "output_type": "error",
     "traceback": [
      "\u001b[1;31m---------------------------------------------------------------------------\u001b[0m",
      "\u001b[1;31mIndexingError\u001b[0m                             Traceback (most recent call last)",
      "\u001b[1;32m<ipython-input-16-9b0b59f25244>\u001b[0m in \u001b[0;36m<module>\u001b[1;34m\u001b[0m\n\u001b[1;32m----> 1\u001b[1;33m \u001b[0madmin_data\u001b[0m\u001b[1;33m[\u001b[0m\u001b[1;34m'pass'\u001b[0m\u001b[1;33m]\u001b[0m\u001b[1;33m.\u001b[0m\u001b[0miloc\u001b[0m\u001b[1;33m[\u001b[0m\u001b[1;33m:\u001b[0m\u001b[1;33m,\u001b[0m\u001b[1;36m1\u001b[0m\u001b[1;33m]\u001b[0m\u001b[1;33m.\u001b[0m\u001b[0mvalues\u001b[0m\u001b[1;33m\u001b[0m\u001b[1;33m\u001b[0m\u001b[0m\n\u001b[0m",
      "\u001b[1;32m~\\AppData\\Local\\Programs\\Python\\Python37\\lib\\site-packages\\pandas\\core\\indexing.py\u001b[0m in \u001b[0;36m__getitem__\u001b[1;34m(self, key)\u001b[0m\n\u001b[0;32m   1416\u001b[0m                 \u001b[1;32mexcept\u001b[0m \u001b[1;33m(\u001b[0m\u001b[0mKeyError\u001b[0m\u001b[1;33m,\u001b[0m \u001b[0mIndexError\u001b[0m\u001b[1;33m,\u001b[0m \u001b[0mAttributeError\u001b[0m\u001b[1;33m)\u001b[0m\u001b[1;33m:\u001b[0m\u001b[1;33m\u001b[0m\u001b[1;33m\u001b[0m\u001b[0m\n\u001b[0;32m   1417\u001b[0m                     \u001b[1;32mpass\u001b[0m\u001b[1;33m\u001b[0m\u001b[1;33m\u001b[0m\u001b[0m\n\u001b[1;32m-> 1418\u001b[1;33m             \u001b[1;32mreturn\u001b[0m \u001b[0mself\u001b[0m\u001b[1;33m.\u001b[0m\u001b[0m_getitem_tuple\u001b[0m\u001b[1;33m(\u001b[0m\u001b[0mkey\u001b[0m\u001b[1;33m)\u001b[0m\u001b[1;33m\u001b[0m\u001b[1;33m\u001b[0m\u001b[0m\n\u001b[0m\u001b[0;32m   1419\u001b[0m         \u001b[1;32melse\u001b[0m\u001b[1;33m:\u001b[0m\u001b[1;33m\u001b[0m\u001b[1;33m\u001b[0m\u001b[0m\n\u001b[0;32m   1420\u001b[0m             \u001b[1;31m# we by definition only have the 0th axis\u001b[0m\u001b[1;33m\u001b[0m\u001b[1;33m\u001b[0m\u001b[1;33m\u001b[0m\u001b[0m\n",
      "\u001b[1;32m~\\AppData\\Local\\Programs\\Python\\Python37\\lib\\site-packages\\pandas\\core\\indexing.py\u001b[0m in \u001b[0;36m_getitem_tuple\u001b[1;34m(self, tup)\u001b[0m\n\u001b[0;32m   2090\u001b[0m     \u001b[1;32mdef\u001b[0m \u001b[0m_getitem_tuple\u001b[0m\u001b[1;33m(\u001b[0m\u001b[0mself\u001b[0m\u001b[1;33m,\u001b[0m \u001b[0mtup\u001b[0m\u001b[1;33m)\u001b[0m\u001b[1;33m:\u001b[0m\u001b[1;33m\u001b[0m\u001b[1;33m\u001b[0m\u001b[0m\n\u001b[0;32m   2091\u001b[0m \u001b[1;33m\u001b[0m\u001b[0m\n\u001b[1;32m-> 2092\u001b[1;33m         \u001b[0mself\u001b[0m\u001b[1;33m.\u001b[0m\u001b[0m_has_valid_tuple\u001b[0m\u001b[1;33m(\u001b[0m\u001b[0mtup\u001b[0m\u001b[1;33m)\u001b[0m\u001b[1;33m\u001b[0m\u001b[1;33m\u001b[0m\u001b[0m\n\u001b[0m\u001b[0;32m   2093\u001b[0m         \u001b[1;32mtry\u001b[0m\u001b[1;33m:\u001b[0m\u001b[1;33m\u001b[0m\u001b[1;33m\u001b[0m\u001b[0m\n\u001b[0;32m   2094\u001b[0m             \u001b[1;32mreturn\u001b[0m \u001b[0mself\u001b[0m\u001b[1;33m.\u001b[0m\u001b[0m_getitem_lowerdim\u001b[0m\u001b[1;33m(\u001b[0m\u001b[0mtup\u001b[0m\u001b[1;33m)\u001b[0m\u001b[1;33m\u001b[0m\u001b[1;33m\u001b[0m\u001b[0m\n",
      "\u001b[1;32m~\\AppData\\Local\\Programs\\Python\\Python37\\lib\\site-packages\\pandas\\core\\indexing.py\u001b[0m in \u001b[0;36m_has_valid_tuple\u001b[1;34m(self, key)\u001b[0m\n\u001b[0;32m    231\u001b[0m         \u001b[1;32mfor\u001b[0m \u001b[0mi\u001b[0m\u001b[1;33m,\u001b[0m \u001b[0mk\u001b[0m \u001b[1;32min\u001b[0m \u001b[0menumerate\u001b[0m\u001b[1;33m(\u001b[0m\u001b[0mkey\u001b[0m\u001b[1;33m)\u001b[0m\u001b[1;33m:\u001b[0m\u001b[1;33m\u001b[0m\u001b[1;33m\u001b[0m\u001b[0m\n\u001b[0;32m    232\u001b[0m             \u001b[1;32mif\u001b[0m \u001b[0mi\u001b[0m \u001b[1;33m>=\u001b[0m \u001b[0mself\u001b[0m\u001b[1;33m.\u001b[0m\u001b[0mobj\u001b[0m\u001b[1;33m.\u001b[0m\u001b[0mndim\u001b[0m\u001b[1;33m:\u001b[0m\u001b[1;33m\u001b[0m\u001b[1;33m\u001b[0m\u001b[0m\n\u001b[1;32m--> 233\u001b[1;33m                 \u001b[1;32mraise\u001b[0m \u001b[0mIndexingError\u001b[0m\u001b[1;33m(\u001b[0m\u001b[1;34m\"Too many indexers\"\u001b[0m\u001b[1;33m)\u001b[0m\u001b[1;33m\u001b[0m\u001b[1;33m\u001b[0m\u001b[0m\n\u001b[0m\u001b[0;32m    234\u001b[0m             \u001b[1;32mtry\u001b[0m\u001b[1;33m:\u001b[0m\u001b[1;33m\u001b[0m\u001b[1;33m\u001b[0m\u001b[0m\n\u001b[0;32m    235\u001b[0m                 \u001b[0mself\u001b[0m\u001b[1;33m.\u001b[0m\u001b[0m_validate_key\u001b[0m\u001b[1;33m(\u001b[0m\u001b[0mk\u001b[0m\u001b[1;33m,\u001b[0m \u001b[0mi\u001b[0m\u001b[1;33m)\u001b[0m\u001b[1;33m\u001b[0m\u001b[1;33m\u001b[0m\u001b[0m\n",
      "\u001b[1;31mIndexingError\u001b[0m: Too many indexers"
     ]
    }
   ],
   "source": [
    "admin_data['pass'].iloc[:,1].values"
   ]
  },
  {
   "cell_type": "code",
   "execution_count": 21,
   "metadata": {},
   "outputs": [
    {
     "data": {
      "text/html": [
       "<div>\n",
       "<style scoped>\n",
       "    .dataframe tbody tr th:only-of-type {\n",
       "        vertical-align: middle;\n",
       "    }\n",
       "\n",
       "    .dataframe tbody tr th {\n",
       "        vertical-align: top;\n",
       "    }\n",
       "\n",
       "    .dataframe thead th {\n",
       "        text-align: right;\n",
       "    }\n",
       "</style>\n",
       "<table border=\"1\" class=\"dataframe\">\n",
       "  <thead>\n",
       "    <tr style=\"text-align: right;\">\n",
       "      <th></th>\n",
       "      <th>Unnamed: 0</th>\n",
       "      <th>username</th>\n",
       "      <th>pass</th>\n",
       "    </tr>\n",
       "  </thead>\n",
       "  <tbody>\n",
       "    <tr>\n",
       "      <th>0</th>\n",
       "      <td>1</td>\n",
       "      <td>admin1234</td>\n",
       "      <td>admin</td>\n",
       "    </tr>\n",
       "  </tbody>\n",
       "</table>\n",
       "</div>"
      ],
      "text/plain": [
       "   Unnamed: 0   username   pass\n",
       "0           1  admin1234  admin"
      ]
     },
     "execution_count": 21,
     "metadata": {},
     "output_type": "execute_result"
    }
   ],
   "source": [
    "admin_data"
   ]
  },
  {
   "cell_type": "code",
   "execution_count": 51,
   "metadata": {},
   "outputs": [],
   "source": [
    "x = pd.read_csv('admin.csv')"
   ]
  },
  {
   "cell_type": "code",
   "execution_count": 52,
   "metadata": {},
   "outputs": [
    {
     "ename": "KeyError",
     "evalue": "\"['Unnamed: 0.1'] not found in axis\"",
     "output_type": "error",
     "traceback": [
      "\u001b[1;31m---------------------------------------------------------------------------\u001b[0m",
      "\u001b[1;31mKeyError\u001b[0m                                  Traceback (most recent call last)",
      "\u001b[1;32m<ipython-input-52-ab3d7e17d1d7>\u001b[0m in \u001b[0;36m<module>\u001b[1;34m\u001b[0m\n\u001b[1;32m----> 1\u001b[1;33m \u001b[0mx\u001b[0m \u001b[1;33m=\u001b[0m \u001b[0mx\u001b[0m\u001b[1;33m.\u001b[0m\u001b[0mdrop\u001b[0m\u001b[1;33m(\u001b[0m\u001b[0mcolumns\u001b[0m\u001b[1;33m=\u001b[0m \u001b[1;33m[\u001b[0m\u001b[1;34m'Unnamed: 0.1'\u001b[0m\u001b[1;33m]\u001b[0m\u001b[1;33m)\u001b[0m\u001b[1;33m\u001b[0m\u001b[1;33m\u001b[0m\u001b[0m\n\u001b[0m",
      "\u001b[1;32m~\\AppData\\Local\\Programs\\Python\\Python37\\lib\\site-packages\\pandas\\core\\frame.py\u001b[0m in \u001b[0;36mdrop\u001b[1;34m(self, labels, axis, index, columns, level, inplace, errors)\u001b[0m\n\u001b[0;32m   4115\u001b[0m             \u001b[0mlevel\u001b[0m\u001b[1;33m=\u001b[0m\u001b[0mlevel\u001b[0m\u001b[1;33m,\u001b[0m\u001b[1;33m\u001b[0m\u001b[1;33m\u001b[0m\u001b[0m\n\u001b[0;32m   4116\u001b[0m             \u001b[0minplace\u001b[0m\u001b[1;33m=\u001b[0m\u001b[0minplace\u001b[0m\u001b[1;33m,\u001b[0m\u001b[1;33m\u001b[0m\u001b[1;33m\u001b[0m\u001b[0m\n\u001b[1;32m-> 4117\u001b[1;33m             \u001b[0merrors\u001b[0m\u001b[1;33m=\u001b[0m\u001b[0merrors\u001b[0m\u001b[1;33m,\u001b[0m\u001b[1;33m\u001b[0m\u001b[1;33m\u001b[0m\u001b[0m\n\u001b[0m\u001b[0;32m   4118\u001b[0m         )\n\u001b[0;32m   4119\u001b[0m \u001b[1;33m\u001b[0m\u001b[0m\n",
      "\u001b[1;32m~\\AppData\\Local\\Programs\\Python\\Python37\\lib\\site-packages\\pandas\\core\\generic.py\u001b[0m in \u001b[0;36mdrop\u001b[1;34m(self, labels, axis, index, columns, level, inplace, errors)\u001b[0m\n\u001b[0;32m   3912\u001b[0m         \u001b[1;32mfor\u001b[0m \u001b[0maxis\u001b[0m\u001b[1;33m,\u001b[0m \u001b[0mlabels\u001b[0m \u001b[1;32min\u001b[0m \u001b[0maxes\u001b[0m\u001b[1;33m.\u001b[0m\u001b[0mitems\u001b[0m\u001b[1;33m(\u001b[0m\u001b[1;33m)\u001b[0m\u001b[1;33m:\u001b[0m\u001b[1;33m\u001b[0m\u001b[1;33m\u001b[0m\u001b[0m\n\u001b[0;32m   3913\u001b[0m             \u001b[1;32mif\u001b[0m \u001b[0mlabels\u001b[0m \u001b[1;32mis\u001b[0m \u001b[1;32mnot\u001b[0m \u001b[1;32mNone\u001b[0m\u001b[1;33m:\u001b[0m\u001b[1;33m\u001b[0m\u001b[1;33m\u001b[0m\u001b[0m\n\u001b[1;32m-> 3914\u001b[1;33m                 \u001b[0mobj\u001b[0m \u001b[1;33m=\u001b[0m \u001b[0mobj\u001b[0m\u001b[1;33m.\u001b[0m\u001b[0m_drop_axis\u001b[0m\u001b[1;33m(\u001b[0m\u001b[0mlabels\u001b[0m\u001b[1;33m,\u001b[0m \u001b[0maxis\u001b[0m\u001b[1;33m,\u001b[0m \u001b[0mlevel\u001b[0m\u001b[1;33m=\u001b[0m\u001b[0mlevel\u001b[0m\u001b[1;33m,\u001b[0m \u001b[0merrors\u001b[0m\u001b[1;33m=\u001b[0m\u001b[0merrors\u001b[0m\u001b[1;33m)\u001b[0m\u001b[1;33m\u001b[0m\u001b[1;33m\u001b[0m\u001b[0m\n\u001b[0m\u001b[0;32m   3915\u001b[0m \u001b[1;33m\u001b[0m\u001b[0m\n\u001b[0;32m   3916\u001b[0m         \u001b[1;32mif\u001b[0m \u001b[0minplace\u001b[0m\u001b[1;33m:\u001b[0m\u001b[1;33m\u001b[0m\u001b[1;33m\u001b[0m\u001b[0m\n",
      "\u001b[1;32m~\\AppData\\Local\\Programs\\Python\\Python37\\lib\\site-packages\\pandas\\core\\generic.py\u001b[0m in \u001b[0;36m_drop_axis\u001b[1;34m(self, labels, axis, level, errors)\u001b[0m\n\u001b[0;32m   3944\u001b[0m                 \u001b[0mnew_axis\u001b[0m \u001b[1;33m=\u001b[0m \u001b[0maxis\u001b[0m\u001b[1;33m.\u001b[0m\u001b[0mdrop\u001b[0m\u001b[1;33m(\u001b[0m\u001b[0mlabels\u001b[0m\u001b[1;33m,\u001b[0m \u001b[0mlevel\u001b[0m\u001b[1;33m=\u001b[0m\u001b[0mlevel\u001b[0m\u001b[1;33m,\u001b[0m \u001b[0merrors\u001b[0m\u001b[1;33m=\u001b[0m\u001b[0merrors\u001b[0m\u001b[1;33m)\u001b[0m\u001b[1;33m\u001b[0m\u001b[1;33m\u001b[0m\u001b[0m\n\u001b[0;32m   3945\u001b[0m             \u001b[1;32melse\u001b[0m\u001b[1;33m:\u001b[0m\u001b[1;33m\u001b[0m\u001b[1;33m\u001b[0m\u001b[0m\n\u001b[1;32m-> 3946\u001b[1;33m                 \u001b[0mnew_axis\u001b[0m \u001b[1;33m=\u001b[0m \u001b[0maxis\u001b[0m\u001b[1;33m.\u001b[0m\u001b[0mdrop\u001b[0m\u001b[1;33m(\u001b[0m\u001b[0mlabels\u001b[0m\u001b[1;33m,\u001b[0m \u001b[0merrors\u001b[0m\u001b[1;33m=\u001b[0m\u001b[0merrors\u001b[0m\u001b[1;33m)\u001b[0m\u001b[1;33m\u001b[0m\u001b[1;33m\u001b[0m\u001b[0m\n\u001b[0m\u001b[0;32m   3947\u001b[0m             \u001b[0mresult\u001b[0m \u001b[1;33m=\u001b[0m \u001b[0mself\u001b[0m\u001b[1;33m.\u001b[0m\u001b[0mreindex\u001b[0m\u001b[1;33m(\u001b[0m\u001b[1;33m**\u001b[0m\u001b[1;33m{\u001b[0m\u001b[0maxis_name\u001b[0m\u001b[1;33m:\u001b[0m \u001b[0mnew_axis\u001b[0m\u001b[1;33m}\u001b[0m\u001b[1;33m)\u001b[0m\u001b[1;33m\u001b[0m\u001b[1;33m\u001b[0m\u001b[0m\n\u001b[0;32m   3948\u001b[0m \u001b[1;33m\u001b[0m\u001b[0m\n",
      "\u001b[1;32m~\\AppData\\Local\\Programs\\Python\\Python37\\lib\\site-packages\\pandas\\core\\indexes\\base.py\u001b[0m in \u001b[0;36mdrop\u001b[1;34m(self, labels, errors)\u001b[0m\n\u001b[0;32m   5338\u001b[0m         \u001b[1;32mif\u001b[0m \u001b[0mmask\u001b[0m\u001b[1;33m.\u001b[0m\u001b[0many\u001b[0m\u001b[1;33m(\u001b[0m\u001b[1;33m)\u001b[0m\u001b[1;33m:\u001b[0m\u001b[1;33m\u001b[0m\u001b[1;33m\u001b[0m\u001b[0m\n\u001b[0;32m   5339\u001b[0m             \u001b[1;32mif\u001b[0m \u001b[0merrors\u001b[0m \u001b[1;33m!=\u001b[0m \u001b[1;34m\"ignore\"\u001b[0m\u001b[1;33m:\u001b[0m\u001b[1;33m\u001b[0m\u001b[1;33m\u001b[0m\u001b[0m\n\u001b[1;32m-> 5340\u001b[1;33m                 \u001b[1;32mraise\u001b[0m \u001b[0mKeyError\u001b[0m\u001b[1;33m(\u001b[0m\u001b[1;34m\"{} not found in axis\"\u001b[0m\u001b[1;33m.\u001b[0m\u001b[0mformat\u001b[0m\u001b[1;33m(\u001b[0m\u001b[0mlabels\u001b[0m\u001b[1;33m[\u001b[0m\u001b[0mmask\u001b[0m\u001b[1;33m]\u001b[0m\u001b[1;33m)\u001b[0m\u001b[1;33m)\u001b[0m\u001b[1;33m\u001b[0m\u001b[1;33m\u001b[0m\u001b[0m\n\u001b[0m\u001b[0;32m   5341\u001b[0m             \u001b[0mindexer\u001b[0m \u001b[1;33m=\u001b[0m \u001b[0mindexer\u001b[0m\u001b[1;33m[\u001b[0m\u001b[1;33m~\u001b[0m\u001b[0mmask\u001b[0m\u001b[1;33m]\u001b[0m\u001b[1;33m\u001b[0m\u001b[1;33m\u001b[0m\u001b[0m\n\u001b[0;32m   5342\u001b[0m         \u001b[1;32mreturn\u001b[0m \u001b[0mself\u001b[0m\u001b[1;33m.\u001b[0m\u001b[0mdelete\u001b[0m\u001b[1;33m(\u001b[0m\u001b[0mindexer\u001b[0m\u001b[1;33m)\u001b[0m\u001b[1;33m\u001b[0m\u001b[1;33m\u001b[0m\u001b[0m\n",
      "\u001b[1;31mKeyError\u001b[0m: \"['Unnamed: 0.1'] not found in axis\""
     ]
    }
   ],
   "source": [
    "x = x.drop(columns= ['Unnamed: 0.1'])"
   ]
  },
  {
   "cell_type": "code",
   "execution_count": 44,
   "metadata": {},
   "outputs": [
    {
     "data": {
      "text/html": [
       "<div>\n",
       "<style scoped>\n",
       "    .dataframe tbody tr th:only-of-type {\n",
       "        vertical-align: middle;\n",
       "    }\n",
       "\n",
       "    .dataframe tbody tr th {\n",
       "        vertical-align: top;\n",
       "    }\n",
       "\n",
       "    .dataframe thead th {\n",
       "        text-align: right;\n",
       "    }\n",
       "</style>\n",
       "<table border=\"1\" class=\"dataframe\">\n",
       "  <thead>\n",
       "    <tr style=\"text-align: right;\">\n",
       "      <th></th>\n",
       "      <th>Unnamed: 0</th>\n",
       "      <th>username</th>\n",
       "      <th>pass</th>\n",
       "    </tr>\n",
       "  </thead>\n",
       "  <tbody>\n",
       "    <tr>\n",
       "      <th>0</th>\n",
       "      <td>0</td>\n",
       "      <td>jfais</td>\n",
       "      <td>fasj</td>\n",
       "    </tr>\n",
       "  </tbody>\n",
       "</table>\n",
       "</div>"
      ],
      "text/plain": [
       "   Unnamed: 0 username  pass\n",
       "0           0    jfais  fasj"
      ]
     },
     "execution_count": 44,
     "metadata": {},
     "output_type": "execute_result"
    }
   ],
   "source": [
    "x"
   ]
  },
  {
   "cell_type": "code",
   "execution_count": 47,
   "metadata": {},
   "outputs": [],
   "source": [
    "x.to_csv('admin.csv',index = False)"
   ]
  },
  {
   "cell_type": "code",
   "execution_count": 53,
   "metadata": {},
   "outputs": [
    {
     "data": {
      "text/html": [
       "<div>\n",
       "<style scoped>\n",
       "    .dataframe tbody tr th:only-of-type {\n",
       "        vertical-align: middle;\n",
       "    }\n",
       "\n",
       "    .dataframe tbody tr th {\n",
       "        vertical-align: top;\n",
       "    }\n",
       "\n",
       "    .dataframe thead th {\n",
       "        text-align: right;\n",
       "    }\n",
       "</style>\n",
       "<table border=\"1\" class=\"dataframe\">\n",
       "  <thead>\n",
       "    <tr style=\"text-align: right;\">\n",
       "      <th></th>\n",
       "      <th>Unnamed: 0</th>\n",
       "      <th>username</th>\n",
       "      <th>pass</th>\n",
       "    </tr>\n",
       "  </thead>\n",
       "  <tbody>\n",
       "    <tr>\n",
       "      <th>0</th>\n",
       "      <td>0</td>\n",
       "      <td>jfais</td>\n",
       "      <td>fasj</td>\n",
       "    </tr>\n",
       "  </tbody>\n",
       "</table>\n",
       "</div>"
      ],
      "text/plain": [
       "   Unnamed: 0 username  pass\n",
       "0           0    jfais  fasj"
      ]
     },
     "execution_count": 53,
     "metadata": {},
     "output_type": "execute_result"
    }
   ],
   "source": [
    "x"
   ]
  },
  {
   "cell_type": "code",
   "execution_count": null,
   "metadata": {},
   "outputs": [],
   "source": []
  }
 ],
 "metadata": {
  "kernelspec": {
   "display_name": "Python 3.7.6 64-bit",
   "language": "python",
   "name": "python37664bit0fa2055d49784cf6a0068ccd845e7b34"
  },
  "language_info": {
   "codemirror_mode": {
    "name": "ipython",
    "version": 3
   },
   "file_extension": ".py",
   "mimetype": "text/x-python",
   "name": "python",
   "nbconvert_exporter": "python",
   "pygments_lexer": "ipython3",
   "version": "3.7.6"
  }
 },
 "nbformat": 4,
 "nbformat_minor": 4
}
